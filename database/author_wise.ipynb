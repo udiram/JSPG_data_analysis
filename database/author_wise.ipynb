{
 "cells": [
  {
   "cell_type": "code",
   "execution_count": 2,
   "outputs": [],
   "source": [
    "import pandas as pd"
   ],
   "metadata": {
    "collapsed": false,
    "pycharm": {
     "name": "#%%\n"
    }
   }
  },
  {
   "cell_type": "code",
   "execution_count": 4,
   "outputs": [
    {
     "ename": "IndexError",
     "evalue": "list index out of range",
     "output_type": "error",
     "traceback": [
      "\u001B[0;31m---------------------------------------------------------------------------\u001B[0m",
      "\u001B[0;31mIndexError\u001B[0m                                Traceback (most recent call last)",
      "\u001B[0;32m<ipython-input-4-a22f510b5433>\u001B[0m in \u001B[0;36m<module>\u001B[0;34m\u001B[0m\n\u001B[1;32m     23\u001B[0m             \u001B[0;34m'Author'\u001B[0m\u001B[0;34m:\u001B[0m \u001B[0mauthors\u001B[0m\u001B[0;34m[\u001B[0m\u001B[0mi\u001B[0m\u001B[0;34m]\u001B[0m\u001B[0;34m,\u001B[0m\u001B[0;34m\u001B[0m\u001B[0;34m\u001B[0m\u001B[0m\n\u001B[1;32m     24\u001B[0m             \u001B[0;34m'Email'\u001B[0m\u001B[0;34m:\u001B[0m \u001B[0memails\u001B[0m\u001B[0;34m[\u001B[0m\u001B[0mi\u001B[0m\u001B[0;34m]\u001B[0m\u001B[0;34m,\u001B[0m\u001B[0;34m\u001B[0m\u001B[0;34m\u001B[0m\u001B[0m\n\u001B[0;32m---> 25\u001B[0;31m             \u001B[0;34m'Country'\u001B[0m\u001B[0;34m:\u001B[0m \u001B[0mcountries\u001B[0m\u001B[0;34m[\u001B[0m\u001B[0mi\u001B[0m\u001B[0;34m]\u001B[0m\u001B[0;34m,\u001B[0m\u001B[0;34m\u001B[0m\u001B[0;34m\u001B[0m\u001B[0m\n\u001B[0m\u001B[1;32m     26\u001B[0m             \u001B[0;34m'State/Region'\u001B[0m\u001B[0;34m:\u001B[0m \u001B[0mstates\u001B[0m\u001B[0;34m[\u001B[0m\u001B[0mi\u001B[0m\u001B[0;34m]\u001B[0m\u001B[0;34m,\u001B[0m\u001B[0;34m\u001B[0m\u001B[0;34m\u001B[0m\u001B[0m\n\u001B[1;32m     27\u001B[0m             \u001B[0;34m'Career Stage'\u001B[0m\u001B[0;34m:\u001B[0m \u001B[0mcareer_stages\u001B[0m\u001B[0;34m[\u001B[0m\u001B[0mi\u001B[0m\u001B[0;34m]\u001B[0m\u001B[0;34m,\u001B[0m\u001B[0;34m\u001B[0m\u001B[0;34m\u001B[0m\u001B[0m\n",
      "\u001B[0;31mIndexError\u001B[0m: list index out of range"
     ]
    }
   ],
   "source": [
    "# Step 1: Read the CSV file into a DataFrame\n",
    "df = pd.read_csv('new-format.csv')\n",
    "\n",
    "# Step 2: Create a list of dictionaries to store the transformed data\n",
    "data = []\n",
    "\n",
    "# Step 3: Iterate through each row and split the authors along with their details\n",
    "for index, row in df.iterrows():\n",
    "    authors = row['Author'].split(', ')\n",
    "    emails = row['Email'].split(', ')\n",
    "    countries = row['Country'].split(', ')\n",
    "    states = row['State/Region'].split(', ')\n",
    "    career_stages = row['Career Stage'].split(', ')\n",
    "    ethnicities = row['Ethnicity'].split(', ')\n",
    "    genders = row['Gender'].split(', ')\n",
    "    pronouns = row['Pronouns'].split(', ')\n",
    "    journal_year_volume_issue = row['Journal Year Volume Issue']\n",
    "    article_title = row['Article Title']\n",
    "    submission_type = row['Submission Type']\n",
    "\n",
    "    for i in range(len(authors)):\n",
    "        author_data = {\n",
    "            'Author': authors[i],\n",
    "            'Email': emails[i],\n",
    "            'Country': countries[i],\n",
    "            'State/Region': states[i],\n",
    "            'Career Stage': career_stages[i],\n",
    "            'Ethnicity': ethnicities[i],\n",
    "            'Gender': genders[i],\n",
    "            'Pronouns': pronouns[i],\n",
    "            'Journal Year Volume Issue': journal_year_volume_issue,\n",
    "            'Article Title': article_title,\n",
    "            'Submission Type': submission_type\n",
    "        }\n",
    "        data.append(author_data)\n",
    "\n",
    "# Step 4: Create a new DataFrame from the transformed data\n",
    "transformed_df = pd.DataFrame(data)"
   ],
   "metadata": {
    "collapsed": false,
    "pycharm": {
     "name": "#%%\n"
    }
   }
  },
  {
   "cell_type": "code",
   "execution_count": null,
   "outputs": [],
   "source": [],
   "metadata": {
    "collapsed": false,
    "pycharm": {
     "name": "#%%\n"
    }
   }
  }
 ],
 "metadata": {
  "kernelspec": {
   "display_name": "Python 3",
   "language": "python",
   "name": "python3"
  },
  "language_info": {
   "codemirror_mode": {
    "name": "ipython",
    "version": 2
   },
   "file_extension": ".py",
   "mimetype": "text/x-python",
   "name": "python",
   "nbconvert_exporter": "python",
   "pygments_lexer": "ipython2",
   "version": "2.7.6"
  }
 },
 "nbformat": 4,
 "nbformat_minor": 0
}