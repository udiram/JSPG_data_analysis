{
 "cells": [
  {
   "cell_type": "code",
   "execution_count": 97,
   "outputs": [],
   "source": [
    "import pandas as pd"
   ],
   "metadata": {
    "collapsed": false,
    "pycharm": {
     "name": "#%%\n"
    }
   }
  },
  {
   "cell_type": "code",
   "execution_count": 98,
   "outputs": [
    {
     "data": {
      "text/plain": "  Year - Vol - Issue 1 Year - Vol - Issue 2 Year - Vol - Issue 3  \\\n0         2011 - Vol 1         2011 - Vol 1         2011 - Vol 1   \n1         2011 - Vol 1         2011 - Vol 1         2011 - Vol 1   \n2         2011 - Vol 1         2011 - Vol 1         2011 - Vol 1   \n3         2011 - Vol 1         2011 - Vol 1         2011 - Vol 1   \n4         2011 - Vol 1         2011 - Vol 1         2011 - Vol 1   \n\n  Year - Vol - Issue 4 Year - Vol - Issue 5 Year - Vol - Issue 6  \\\n0         2011 - Vol 1         2011 - Vol 1         2011 - Vol 1   \n1         2011 - Vol 1         2011 - Vol 1         2011 - Vol 1   \n2         2011 - Vol 1         2011 - Vol 1         2011 - Vol 1   \n3         2011 - Vol 1         2011 - Vol 1         2011 - Vol 1   \n4         2011 - Vol 1         2011 - Vol 1         2011 - Vol 1   \n\n  Year - Vol - Issue 7 Year - Vol - Issue 8 Year - Vol - Issue 9  \\\n0         2011 - Vol 1         2011 - Vol 1         2011 - Vol 1   \n1         2011 - Vol 1         2011 - Vol 1         2011 - Vol 1   \n2         2011 - Vol 1         2011 - Vol 1         2011 - Vol 1   \n3         2011 - Vol 1         2011 - Vol 1         2011 - Vol 1   \n4         2011 - Vol 1         2011 - Vol 1         2011 - Vol 1   \n\n  Year - Vol - Issue 10  ... Pronouns 3 Pronouns 4  Pronouns 5  Pronouns 6  \\\n0          2011 - Vol 1  ...        NaN        NaN         NaN         NaN   \n1          2011 - Vol 1  ...        NaN        NaN         NaN         NaN   \n2          2011 - Vol 1  ...        NaN        NaN         NaN         NaN   \n3          2011 - Vol 1  ...        NaN        NaN         NaN         NaN   \n4          2011 - Vol 1  ...        NaN        NaN         NaN         NaN   \n\n   Pronouns 7 Pronouns 8 Pronouns 9 Pronouns 10 Pronouns 11 Pronouns 12  \n0         NaN        NaN        NaN         NaN         NaN         NaN  \n1         NaN        NaN        NaN         NaN         NaN         NaN  \n2         NaN        NaN        NaN         NaN         NaN         NaN  \n3         NaN        NaN        NaN         NaN         NaN         NaN  \n4         NaN        NaN        NaN         NaN         NaN         NaN  \n\n[5 rows x 169 columns]",
      "text/html": "<div>\n<style scoped>\n    .dataframe tbody tr th:only-of-type {\n        vertical-align: middle;\n    }\n\n    .dataframe tbody tr th {\n        vertical-align: top;\n    }\n\n    .dataframe thead th {\n        text-align: right;\n    }\n</style>\n<table border=\"1\" class=\"dataframe\">\n  <thead>\n    <tr style=\"text-align: right;\">\n      <th></th>\n      <th>Year - Vol - Issue 1</th>\n      <th>Year - Vol - Issue 2</th>\n      <th>Year - Vol - Issue 3</th>\n      <th>Year - Vol - Issue 4</th>\n      <th>Year - Vol - Issue 5</th>\n      <th>Year - Vol - Issue 6</th>\n      <th>Year - Vol - Issue 7</th>\n      <th>Year - Vol - Issue 8</th>\n      <th>Year - Vol - Issue 9</th>\n      <th>Year - Vol - Issue 10</th>\n      <th>...</th>\n      <th>Pronouns 3</th>\n      <th>Pronouns 4</th>\n      <th>Pronouns 5</th>\n      <th>Pronouns 6</th>\n      <th>Pronouns 7</th>\n      <th>Pronouns 8</th>\n      <th>Pronouns 9</th>\n      <th>Pronouns 10</th>\n      <th>Pronouns 11</th>\n      <th>Pronouns 12</th>\n    </tr>\n  </thead>\n  <tbody>\n    <tr>\n      <th>0</th>\n      <td>2011 - Vol 1</td>\n      <td>2011 - Vol 1</td>\n      <td>2011 - Vol 1</td>\n      <td>2011 - Vol 1</td>\n      <td>2011 - Vol 1</td>\n      <td>2011 - Vol 1</td>\n      <td>2011 - Vol 1</td>\n      <td>2011 - Vol 1</td>\n      <td>2011 - Vol 1</td>\n      <td>2011 - Vol 1</td>\n      <td>...</td>\n      <td>NaN</td>\n      <td>NaN</td>\n      <td>NaN</td>\n      <td>NaN</td>\n      <td>NaN</td>\n      <td>NaN</td>\n      <td>NaN</td>\n      <td>NaN</td>\n      <td>NaN</td>\n      <td>NaN</td>\n    </tr>\n    <tr>\n      <th>1</th>\n      <td>2011 - Vol 1</td>\n      <td>2011 - Vol 1</td>\n      <td>2011 - Vol 1</td>\n      <td>2011 - Vol 1</td>\n      <td>2011 - Vol 1</td>\n      <td>2011 - Vol 1</td>\n      <td>2011 - Vol 1</td>\n      <td>2011 - Vol 1</td>\n      <td>2011 - Vol 1</td>\n      <td>2011 - Vol 1</td>\n      <td>...</td>\n      <td>NaN</td>\n      <td>NaN</td>\n      <td>NaN</td>\n      <td>NaN</td>\n      <td>NaN</td>\n      <td>NaN</td>\n      <td>NaN</td>\n      <td>NaN</td>\n      <td>NaN</td>\n      <td>NaN</td>\n    </tr>\n    <tr>\n      <th>2</th>\n      <td>2011 - Vol 1</td>\n      <td>2011 - Vol 1</td>\n      <td>2011 - Vol 1</td>\n      <td>2011 - Vol 1</td>\n      <td>2011 - Vol 1</td>\n      <td>2011 - Vol 1</td>\n      <td>2011 - Vol 1</td>\n      <td>2011 - Vol 1</td>\n      <td>2011 - Vol 1</td>\n      <td>2011 - Vol 1</td>\n      <td>...</td>\n      <td>NaN</td>\n      <td>NaN</td>\n      <td>NaN</td>\n      <td>NaN</td>\n      <td>NaN</td>\n      <td>NaN</td>\n      <td>NaN</td>\n      <td>NaN</td>\n      <td>NaN</td>\n      <td>NaN</td>\n    </tr>\n    <tr>\n      <th>3</th>\n      <td>2011 - Vol 1</td>\n      <td>2011 - Vol 1</td>\n      <td>2011 - Vol 1</td>\n      <td>2011 - Vol 1</td>\n      <td>2011 - Vol 1</td>\n      <td>2011 - Vol 1</td>\n      <td>2011 - Vol 1</td>\n      <td>2011 - Vol 1</td>\n      <td>2011 - Vol 1</td>\n      <td>2011 - Vol 1</td>\n      <td>...</td>\n      <td>NaN</td>\n      <td>NaN</td>\n      <td>NaN</td>\n      <td>NaN</td>\n      <td>NaN</td>\n      <td>NaN</td>\n      <td>NaN</td>\n      <td>NaN</td>\n      <td>NaN</td>\n      <td>NaN</td>\n    </tr>\n    <tr>\n      <th>4</th>\n      <td>2011 - Vol 1</td>\n      <td>2011 - Vol 1</td>\n      <td>2011 - Vol 1</td>\n      <td>2011 - Vol 1</td>\n      <td>2011 - Vol 1</td>\n      <td>2011 - Vol 1</td>\n      <td>2011 - Vol 1</td>\n      <td>2011 - Vol 1</td>\n      <td>2011 - Vol 1</td>\n      <td>2011 - Vol 1</td>\n      <td>...</td>\n      <td>NaN</td>\n      <td>NaN</td>\n      <td>NaN</td>\n      <td>NaN</td>\n      <td>NaN</td>\n      <td>NaN</td>\n      <td>NaN</td>\n      <td>NaN</td>\n      <td>NaN</td>\n      <td>NaN</td>\n    </tr>\n  </tbody>\n</table>\n<p>5 rows × 169 columns</p>\n</div>"
     },
     "execution_count": 98,
     "metadata": {},
     "output_type": "execute_result"
    }
   ],
   "source": [
    "df = pd.read_csv('JSPG author database.xlsx - Journal Article Database.csv')\n",
    "df.head()"
   ],
   "metadata": {
    "collapsed": false,
    "pycharm": {
     "name": "#%%\n"
    }
   }
  },
  {
   "cell_type": "code",
   "execution_count": 99,
   "outputs": [
    {
     "data": {
      "text/plain": "Index(['Year - Vol - Issue 1', 'Year - Vol - Issue 2', 'Year - Vol - Issue 3',\n       'Year - Vol - Issue 4', 'Year - Vol - Issue 5', 'Year - Vol - Issue 6',\n       'Year - Vol - Issue 7', 'Year - Vol - Issue 8', 'Year - Vol - Issue 9',\n       'Year - Vol - Issue 10',\n       ...\n       'Pronouns 3', 'Pronouns 4', 'Pronouns 5', 'Pronouns 6', 'Pronouns 7',\n       'Pronouns 8', 'Pronouns 9', 'Pronouns 10', 'Pronouns 11',\n       'Pronouns 12'],\n      dtype='object', length=169)"
     },
     "execution_count": 99,
     "metadata": {},
     "output_type": "execute_result"
    }
   ],
   "source": [
    "headers_names = df.columns\n",
    "headers_names"
   ],
   "metadata": {
    "collapsed": false,
    "pycharm": {
     "name": "#%%\n"
    }
   }
  },
  {
   "cell_type": "code",
   "execution_count": 100,
   "outputs": [],
   "source": [
    "global_names = []\n",
    "global_pn = []\n",
    "global_email = []\n",
    "global_country = []\n",
    "global_gender = []\n",
    "global_re = []\n",
    "global_career = []\n",
    "global_article_name = []\n",
    "global_journal_meta = []\n",
    "global_submission_type = []\n",
    "for name in headers_names:\n",
    "    if 'Author Name' in name:\n",
    "        authours = df[name]\n",
    "        global_names.extend(authours)\n",
    "    if 'Pronouns' in name:\n",
    "        pn = df[name]\n",
    "        global_pn.extend(pn)\n",
    "    if 'Email' in name and not 'Author' in name:\n",
    "        email = df[name]\n",
    "        global_email.extend(email)\n",
    "    if 'Country' in name:\n",
    "        country = df[name]\n",
    "        global_country.extend(country)\n",
    "    if 'Gender' in name:\n",
    "        gender = df[name]\n",
    "        global_gender.extend(gender)\n",
    "    if 'R/E' in name:\n",
    "        re = df[name]\n",
    "        global_re.extend(re)\n",
    "    if 'Career Stage' in name:\n",
    "        career = df[name]\n",
    "        global_career.extend(career)\n",
    "    if 'Article Title' in name:\n",
    "        article_name = df[name]\n",
    "        global_article_name.extend(article_name)\n",
    "    if 'Year - Vol - Issue' in name:\n",
    "        journal_meta = df[name]\n",
    "        global_journal_meta.extend(journal_meta)\n",
    "    if 'Submission Type' in name:\n",
    "        submission_type = df[name]\n",
    "        global_submission_type.extend(submission_type)"
   ],
   "metadata": {
    "collapsed": false,
    "pycharm": {
     "name": "#%%\n"
    }
   }
  },
  {
   "cell_type": "code",
   "execution_count": 101,
   "outputs": [
    {
     "name": "stdout",
     "output_type": "stream",
     "text": [
      "All lists are the same length: 3864\n",
      " Clio.Korn@ucsf.edu,  Clio Korn nan United States nan nan Postdoctoral Assocaite Medical Necessity Standards For Mental Health Parity In California 2020 - Vol 17 - 02 Policy Memo\n"
     ]
    }
   ],
   "source": [
    "if len(global_gender) == len(global_names) == len(global_pn) == len(global_email) == len(global_country) == len(global_re) == len(global_career) == len(global_article_name) == len(global_journal_meta) == len(global_submission_type):\n",
    "    print('All lists are the same length: {}'.format(len(global_names)))\n",
    "else:\n",
    "    print('Lists are not the same length')\n",
    "    print(len(global_names), len(global_pn), len(global_email), len(global_country), len(global_re), len(global_career), len(global_article_name), len(global_journal_meta), len(global_submission_type))\n",
    "number = 500\n",
    "print(global_email[number], global_names[number], global_pn[number], global_country[number], global_gender[number], global_re[number], global_career[number], global_article_name[number], global_journal_meta[number], global_submission_type[number])"
   ],
   "metadata": {
    "collapsed": false,
    "pycharm": {
     "name": "#%%\n"
    }
   }
  },
  {
   "cell_type": "code",
   "execution_count": 102,
   "outputs": [],
   "source": [
    "tuples = list(zip(global_names, global_email, global_country, global_career, global_submission_type, global_journal_meta, global_article_name, global_re, global_gender, global_pn))\n",
    "# print(tuples)"
   ],
   "metadata": {
    "collapsed": false,
    "pycharm": {
     "name": "#%%\n"
    }
   }
  },
  {
   "cell_type": "code",
   "execution_count": 103,
   "outputs": [
    {
     "data": {
      "text/plain": "                Name                   Email        Country  \\\n0            Tang Li       litang@gatech.edu  United States   \n1     Trisha K. Lowe  trishak.lowe@gmail.com  United States   \n2          Aaron Ray     aarondray@gmail.com  United States   \n3     Kara M Calhoun           kmc4@rice.edu  United States   \n4  Firas Said Midani       fmidani@umich.edu  United States   \n\n            Career Stage   Submisson Type Year - Volume - Issue  \\\n0       Graduate Student  Policy Analysis          2011 - Vol 1   \n1  Undergraduate Student  Policy Analysis          2011 - Vol 1   \n2       Graduate Student  Policy Analysis          2011 - Vol 1   \n3  Undergraduate Student            Op-Ed          2011 - Vol 1   \n4  Undergraduate Student  Policy Analysis          2011 - Vol 1   \n\n                                        Article name Race/Ethnicity Gender  \\\n0  Charting Nano Environmental, Health, and Safet...            NaN    NaN   \n1  South Forida Groundwater- Technological and Po...            NaN    NaN   \n2  Adaptive Policy Approaches to Ocean Acidification            NaN    NaN   \n3                       Diversity in Clinical Trials            NaN    NaN   \n4  Advancement of the Multidisciplinary Research ...            NaN    NaN   \n\n  Pronouns  \n0      NaN  \n1      NaN  \n2      NaN  \n3      NaN  \n4      NaN  ",
      "text/html": "<div>\n<style scoped>\n    .dataframe tbody tr th:only-of-type {\n        vertical-align: middle;\n    }\n\n    .dataframe tbody tr th {\n        vertical-align: top;\n    }\n\n    .dataframe thead th {\n        text-align: right;\n    }\n</style>\n<table border=\"1\" class=\"dataframe\">\n  <thead>\n    <tr style=\"text-align: right;\">\n      <th></th>\n      <th>Name</th>\n      <th>Email</th>\n      <th>Country</th>\n      <th>Career Stage</th>\n      <th>Submisson Type</th>\n      <th>Year - Volume - Issue</th>\n      <th>Article name</th>\n      <th>Race/Ethnicity</th>\n      <th>Gender</th>\n      <th>Pronouns</th>\n    </tr>\n  </thead>\n  <tbody>\n    <tr>\n      <th>0</th>\n      <td>Tang Li</td>\n      <td>litang@gatech.edu</td>\n      <td>United States</td>\n      <td>Graduate Student</td>\n      <td>Policy Analysis</td>\n      <td>2011 - Vol 1</td>\n      <td>Charting Nano Environmental, Health, and Safet...</td>\n      <td>NaN</td>\n      <td>NaN</td>\n      <td>NaN</td>\n    </tr>\n    <tr>\n      <th>1</th>\n      <td>Trisha K. Lowe</td>\n      <td>trishak.lowe@gmail.com</td>\n      <td>United States</td>\n      <td>Undergraduate Student</td>\n      <td>Policy Analysis</td>\n      <td>2011 - Vol 1</td>\n      <td>South Forida Groundwater- Technological and Po...</td>\n      <td>NaN</td>\n      <td>NaN</td>\n      <td>NaN</td>\n    </tr>\n    <tr>\n      <th>2</th>\n      <td>Aaron Ray</td>\n      <td>aarondray@gmail.com</td>\n      <td>United States</td>\n      <td>Graduate Student</td>\n      <td>Policy Analysis</td>\n      <td>2011 - Vol 1</td>\n      <td>Adaptive Policy Approaches to Ocean Acidification</td>\n      <td>NaN</td>\n      <td>NaN</td>\n      <td>NaN</td>\n    </tr>\n    <tr>\n      <th>3</th>\n      <td>Kara M Calhoun</td>\n      <td>kmc4@rice.edu</td>\n      <td>United States</td>\n      <td>Undergraduate Student</td>\n      <td>Op-Ed</td>\n      <td>2011 - Vol 1</td>\n      <td>Diversity in Clinical Trials</td>\n      <td>NaN</td>\n      <td>NaN</td>\n      <td>NaN</td>\n    </tr>\n    <tr>\n      <th>4</th>\n      <td>Firas Said Midani</td>\n      <td>fmidani@umich.edu</td>\n      <td>United States</td>\n      <td>Undergraduate Student</td>\n      <td>Policy Analysis</td>\n      <td>2011 - Vol 1</td>\n      <td>Advancement of the Multidisciplinary Research ...</td>\n      <td>NaN</td>\n      <td>NaN</td>\n      <td>NaN</td>\n    </tr>\n  </tbody>\n</table>\n</div>"
     },
     "execution_count": 103,
     "metadata": {},
     "output_type": "execute_result"
    }
   ],
   "source": [
    "new_df = pd.DataFrame(tuples, columns=['Name', 'Email', 'Country', 'Career Stage', 'Submisson Type', 'Year - Volume - Issue', 'Article name', 'Race/Ethnicity', 'Gender', 'Pronouns'])\n",
    "new_df.head()"
   ],
   "metadata": {
    "collapsed": false,
    "pycharm": {
     "name": "#%%\n"
    }
   }
  },
  {
   "cell_type": "code",
   "execution_count": 104,
   "outputs": [],
   "source": [
    "new_df.to_csv('New_authour_db.csv')"
   ],
   "metadata": {
    "collapsed": false,
    "pycharm": {
     "name": "#%%\n"
    }
   }
  }
 ],
 "metadata": {
  "kernelspec": {
   "display_name": "Python 3",
   "language": "python",
   "name": "python3"
  },
  "language_info": {
   "codemirror_mode": {
    "name": "ipython",
    "version": 2
   },
   "file_extension": ".py",
   "mimetype": "text/x-python",
   "name": "python",
   "nbconvert_exporter": "python",
   "pygments_lexer": "ipython2",
   "version": "2.7.6"
  }
 },
 "nbformat": 4,
 "nbformat_minor": 0
}