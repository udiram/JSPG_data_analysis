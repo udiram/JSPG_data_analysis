{
 "cells": [
  {
   "cell_type": "code",
   "execution_count": 1,
   "outputs": [],
   "source": [
    "import pandas as pd"
   ],
   "metadata": {
    "collapsed": false,
    "pycharm": {
     "name": "#%%\n"
    },
    "ExecuteTime": {
     "end_time": "2023-09-24T19:25:32.281153100Z",
     "start_time": "2023-09-24T19:25:31.538371Z"
    }
   }
  },
  {
   "cell_type": "code",
   "execution_count": 2,
   "outputs": [
    {
     "data": {
      "text/plain": "  Year - Vol - Issue  Year  Vol  Issue            Issue Topic  \\\n0       2011 - Vol 1  2011  1.0    NaN  Standard Winter Issue   \n1       2011 - Vol 1  2011  1.0    NaN  Standard Winter Issue   \n2       2011 - Vol 1  2011  1.0    NaN  Standard Winter Issue   \n3       2011 - Vol 1  2011  1.0    NaN  Standard Winter Issue   \n4       2011 - Vol 1  2011  1.0    NaN  Standard Winter Issue   \n\n  Standard or Special Issue Issue Sponsor Issue Outreach Partner  \\\n0            STANDARD ISSUE           NaN                    NaN   \n1            STANDARD ISSUE           NaN                    NaN   \n2            STANDARD ISSUE           NaN                    NaN   \n3            STANDARD ISSUE           NaN                    NaN   \n4            STANDARD ISSUE           NaN                    NaN   \n\n                                     Article Title 1  \\\n0  Charting Nano Environmental, Health, and Safet...   \n1  South Forida Groundwater- Technological and Po...   \n2  Adaptive Policy Approaches to Ocean Acidificat...   \n3                      Diversity in Clinical Trials    \n4  Advancement of the Multidisciplinary Research ...   \n\n                                     Article Title 2  ... Pronouns 3  \\\n0  Charting Nano Environmental, Health, and Safet...  ...        NaN   \n1  South Forida Groundwater- Technological and Po...  ...        NaN   \n2  Adaptive Policy Approaches to Ocean Acidificat...  ...        NaN   \n3                      Diversity in Clinical Trials   ...        NaN   \n4  Advancement of the Multidisciplinary Research ...  ...        NaN   \n\n  Pronouns 4 Pronouns 5 Pronouns 6 Pronouns 7 Pronouns 8 Pronouns 9  \\\n0        NaN        NaN        NaN        NaN        NaN        NaN   \n1        NaN        NaN        NaN        NaN        NaN        NaN   \n2        NaN        NaN        NaN        NaN        NaN        NaN   \n3        NaN        NaN        NaN        NaN        NaN        NaN   \n4        NaN        NaN        NaN        NaN        NaN        NaN   \n\n  Pronouns 10 Pronouns 11 Pronouns 12  \n0         NaN         NaN         NaN  \n1         NaN         NaN         NaN  \n2         NaN         NaN         NaN  \n3         NaN         NaN         NaN  \n4         NaN         NaN         NaN  \n\n[5 rows x 162 columns]",
      "text/html": "<div>\n<style scoped>\n    .dataframe tbody tr th:only-of-type {\n        vertical-align: middle;\n    }\n\n    .dataframe tbody tr th {\n        vertical-align: top;\n    }\n\n    .dataframe thead th {\n        text-align: right;\n    }\n</style>\n<table border=\"1\" class=\"dataframe\">\n  <thead>\n    <tr style=\"text-align: right;\">\n      <th></th>\n      <th>Year - Vol - Issue</th>\n      <th>Year</th>\n      <th>Vol</th>\n      <th>Issue</th>\n      <th>Issue Topic</th>\n      <th>Standard or Special Issue</th>\n      <th>Issue Sponsor</th>\n      <th>Issue Outreach Partner</th>\n      <th>Article Title 1</th>\n      <th>Article Title 2</th>\n      <th>...</th>\n      <th>Pronouns 3</th>\n      <th>Pronouns 4</th>\n      <th>Pronouns 5</th>\n      <th>Pronouns 6</th>\n      <th>Pronouns 7</th>\n      <th>Pronouns 8</th>\n      <th>Pronouns 9</th>\n      <th>Pronouns 10</th>\n      <th>Pronouns 11</th>\n      <th>Pronouns 12</th>\n    </tr>\n  </thead>\n  <tbody>\n    <tr>\n      <th>0</th>\n      <td>2011 - Vol 1</td>\n      <td>2011</td>\n      <td>1.0</td>\n      <td>NaN</td>\n      <td>Standard Winter Issue</td>\n      <td>STANDARD ISSUE</td>\n      <td>NaN</td>\n      <td>NaN</td>\n      <td>Charting Nano Environmental, Health, and Safet...</td>\n      <td>Charting Nano Environmental, Health, and Safet...</td>\n      <td>...</td>\n      <td>NaN</td>\n      <td>NaN</td>\n      <td>NaN</td>\n      <td>NaN</td>\n      <td>NaN</td>\n      <td>NaN</td>\n      <td>NaN</td>\n      <td>NaN</td>\n      <td>NaN</td>\n      <td>NaN</td>\n    </tr>\n    <tr>\n      <th>1</th>\n      <td>2011 - Vol 1</td>\n      <td>2011</td>\n      <td>1.0</td>\n      <td>NaN</td>\n      <td>Standard Winter Issue</td>\n      <td>STANDARD ISSUE</td>\n      <td>NaN</td>\n      <td>NaN</td>\n      <td>South Forida Groundwater- Technological and Po...</td>\n      <td>South Forida Groundwater- Technological and Po...</td>\n      <td>...</td>\n      <td>NaN</td>\n      <td>NaN</td>\n      <td>NaN</td>\n      <td>NaN</td>\n      <td>NaN</td>\n      <td>NaN</td>\n      <td>NaN</td>\n      <td>NaN</td>\n      <td>NaN</td>\n      <td>NaN</td>\n    </tr>\n    <tr>\n      <th>2</th>\n      <td>2011 - Vol 1</td>\n      <td>2011</td>\n      <td>1.0</td>\n      <td>NaN</td>\n      <td>Standard Winter Issue</td>\n      <td>STANDARD ISSUE</td>\n      <td>NaN</td>\n      <td>NaN</td>\n      <td>Adaptive Policy Approaches to Ocean Acidificat...</td>\n      <td>Adaptive Policy Approaches to Ocean Acidificat...</td>\n      <td>...</td>\n      <td>NaN</td>\n      <td>NaN</td>\n      <td>NaN</td>\n      <td>NaN</td>\n      <td>NaN</td>\n      <td>NaN</td>\n      <td>NaN</td>\n      <td>NaN</td>\n      <td>NaN</td>\n      <td>NaN</td>\n    </tr>\n    <tr>\n      <th>3</th>\n      <td>2011 - Vol 1</td>\n      <td>2011</td>\n      <td>1.0</td>\n      <td>NaN</td>\n      <td>Standard Winter Issue</td>\n      <td>STANDARD ISSUE</td>\n      <td>NaN</td>\n      <td>NaN</td>\n      <td>Diversity in Clinical Trials</td>\n      <td>Diversity in Clinical Trials</td>\n      <td>...</td>\n      <td>NaN</td>\n      <td>NaN</td>\n      <td>NaN</td>\n      <td>NaN</td>\n      <td>NaN</td>\n      <td>NaN</td>\n      <td>NaN</td>\n      <td>NaN</td>\n      <td>NaN</td>\n      <td>NaN</td>\n    </tr>\n    <tr>\n      <th>4</th>\n      <td>2011 - Vol 1</td>\n      <td>2011</td>\n      <td>1.0</td>\n      <td>NaN</td>\n      <td>Standard Winter Issue</td>\n      <td>STANDARD ISSUE</td>\n      <td>NaN</td>\n      <td>NaN</td>\n      <td>Advancement of the Multidisciplinary Research ...</td>\n      <td>Advancement of the Multidisciplinary Research ...</td>\n      <td>...</td>\n      <td>NaN</td>\n      <td>NaN</td>\n      <td>NaN</td>\n      <td>NaN</td>\n      <td>NaN</td>\n      <td>NaN</td>\n      <td>NaN</td>\n      <td>NaN</td>\n      <td>NaN</td>\n      <td>NaN</td>\n    </tr>\n  </tbody>\n</table>\n<p>5 rows × 162 columns</p>\n</div>"
     },
     "execution_count": 2,
     "metadata": {},
     "output_type": "execute_result"
    }
   ],
   "source": [
    "df = pd.read_csv('JSPG author database.xlsx - Journal Article Database (1).csv')\n",
    "df.head()"
   ],
   "metadata": {
    "collapsed": false,
    "pycharm": {
     "name": "#%%\n"
    },
    "ExecuteTime": {
     "end_time": "2023-09-24T19:25:32.365743600Z",
     "start_time": "2023-09-24T19:25:32.267583Z"
    }
   }
  },
  {
   "cell_type": "code",
   "execution_count": 3,
   "outputs": [
    {
     "name": "stdout",
     "output_type": "stream",
     "text": [
      "Index(['Year - Vol - Issue', 'Year', 'Vol', 'Issue', 'Issue Topic',\n",
      "       'Standard or Special Issue', 'Issue Sponsor', 'Issue Outreach Partner',\n",
      "       'Article Title 1', 'Article Title 2',\n",
      "       ...\n",
      "       'Pronouns 3', 'Pronouns 4', 'Pronouns 5', 'Pronouns 6', 'Pronouns 7',\n",
      "       'Pronouns 8', 'Pronouns 9', 'Pronouns 10', 'Pronouns 11',\n",
      "       'Pronouns 12'],\n",
      "      dtype='object', length=162)\n"
     ]
    }
   ],
   "source": [
    "headers_names = df.columns\n",
    "print(headers_names)"
   ],
   "metadata": {
    "collapsed": false,
    "pycharm": {
     "name": "#%%\n"
    },
    "ExecuteTime": {
     "end_time": "2023-09-24T19:25:32.366253200Z",
     "start_time": "2023-09-24T19:25:32.341736Z"
    }
   }
  },
  {
   "cell_type": "code",
   "execution_count": 4,
   "outputs": [],
   "source": [
    "global_names = []\n",
    "global_pn = []\n",
    "global_email = []\n",
    "global_country = []\n",
    "global_gender = []\n",
    "global_re = []\n",
    "global_career = []\n",
    "global_article_name = []\n",
    "global_journal_meta = []\n",
    "global_submission_type = []\n",
    "global_affiliation = []\n",
    "for name in headers_names:\n",
    "    if 'Author Name' in name:\n",
    "        authours = df[name]\n",
    "        global_names.extend(authours)\n",
    "    if 'Pronouns' in name and name != 'Pronouns 12':\n",
    "        pn = df[name]\n",
    "        global_pn.extend(pn)\n",
    "    if 'Email' in name and not 'Author' in name:\n",
    "        email = df[name]\n",
    "        global_email.extend(email)\n",
    "    if 'Country' in name:\n",
    "        country = df[name]\n",
    "        global_country.extend(country)\n",
    "    if 'Gender' in name:\n",
    "        gender = df[name]\n",
    "        global_gender.extend(gender)\n",
    "    if 'R/E' in name:\n",
    "        re = df[name]\n",
    "        global_re.extend(re)\n",
    "    if 'Career Stage' in name:\n",
    "        career = df[name]\n",
    "        global_career.extend(career)\n",
    "    if 'Article Title' in name:\n",
    "        article_name = df[name]\n",
    "        global_article_name.extend(article_name)\n",
    "    if 'Year - Vol - Issue' in name:\n",
    "        journal_meta = df[name]\n",
    "        for i in range(1, 13):\n",
    "            global_journal_meta.extend(journal_meta)\n",
    "    if 'Submission Type' in name:\n",
    "        submission_type = df[name]\n",
    "        for i in range(1, 13):\n",
    "            global_submission_type.extend(submission_type)\n",
    "    if 'Affiliation' in name and name != 'Affiliation':\n",
    "        affiliation = df[name]\n",
    "        global_affiliation.extend(affiliation)\n"
   ],
   "metadata": {
    "collapsed": false,
    "pycharm": {
     "name": "#%%\n"
    },
    "ExecuteTime": {
     "end_time": "2023-09-24T19:25:32.428518900Z",
     "start_time": "2023-09-24T19:25:32.365743600Z"
    }
   }
  },
  {
   "cell_type": "code",
   "execution_count": 5,
   "outputs": [
    {
     "name": "stdout",
     "output_type": "stream",
     "text": [
      "Lists are not the same length\n",
      "names has a length of 3864\n",
      "pronouns has a length of 3864\n",
      "emails has a length of 3864\n",
      "countries has a length of 3864\n",
      "re has a length of 3864\n",
      "careers has a length of 3864\n",
      "article names has a length of 3864\n",
      "journal metadata has a length of 3864\n",
      "submission types has a length of 3864\n",
      "affiliations has a length of 3864\n",
      "The lists have varying lengths between 3864 and 4186\n"
     ]
    }
   ],
   "source": [
    "if len(global_gender) == len(global_names) == len(global_pn) == len(global_email) == len(global_country) == len(global_re) == len(global_career) == len(global_article_name) == len(global_journal_meta) == len(global_submission_type) == len(global_affiliation):\n",
    "    print('All lists are the same length: {}'.format(len(global_names)))\n",
    "else:\n",
    "    print('Lists are not the same length')\n",
    "\n",
    "    length_dict = {\n",
    "        'gender': len(global_gender),\n",
    "        'names': len(global_names),\n",
    "        'pronouns': len(global_pn),\n",
    "        'emails': len(global_email),\n",
    "        'countries': len(global_country),\n",
    "        're': len(global_re),\n",
    "        'careers': len(global_career),\n",
    "        'article names': len(global_article_name),\n",
    "        'journal metadata': len(global_journal_meta),\n",
    "        'submission types': len(global_submission_type),\n",
    "        'affiliations': len(global_affiliation)\n",
    "    }\n",
    "\n",
    "    max_length = max(length_dict.values())\n",
    "    min_length = min(length_dict.values())\n",
    "\n",
    "    for item, length in length_dict.items():\n",
    "        if length != max_length:\n",
    "            print('{} has a length of {}'.format(item, length))\n",
    "\n",
    "    print('The lists have varying lengths between {} and {}'.format(min_length, max_length))\n"
   ],
   "metadata": {
    "collapsed": false,
    "pycharm": {
     "name": "#%%\n"
    },
    "ExecuteTime": {
     "end_time": "2023-09-24T19:25:32.483838Z",
     "start_time": "2023-09-24T19:25:32.366253200Z"
    }
   }
  },
  {
   "cell_type": "code",
   "execution_count": 6,
   "outputs": [
    {
     "name": "stdout",
     "output_type": "stream",
     "text": [
      " Clio.Korn@ucsf.edu,  Clio Korn University of California, San Francisco nan United States nan nan Postdoctoral Assocaite Medical Necessity Standards For Mental Health Parity In California 2020 - Vol 17 - 02 Policy Memo\n"
     ]
    }
   ],
   "source": [
    "number = 500\n",
    "print(global_email[number], global_names[number], global_affiliation[number] , global_pn[number], global_country[number], global_gender[number], global_re[number], global_career[number], global_article_name[number], global_journal_meta[number], global_submission_type[number])"
   ],
   "metadata": {
    "collapsed": false,
    "pycharm": {
     "name": "#%%\n"
    },
    "ExecuteTime": {
     "end_time": "2023-09-24T19:25:32.586473800Z",
     "start_time": "2023-09-24T19:25:32.366253200Z"
    }
   }
  },
  {
   "cell_type": "code",
   "execution_count": 7,
   "outputs": [],
   "source": [
    "tuples = list(zip(global_names, global_email, global_affiliation, global_country, global_career, global_submission_type, global_journal_meta, global_article_name, global_re, global_gender, global_pn))\n",
    "# print(tuples)"
   ],
   "metadata": {
    "collapsed": false,
    "pycharm": {
     "name": "#%%\n"
    },
    "ExecuteTime": {
     "end_time": "2023-09-24T19:25:32.639780300Z",
     "start_time": "2023-09-24T19:25:32.371196100Z"
    }
   }
  },
  {
   "cell_type": "code",
   "execution_count": 8,
   "outputs": [
    {
     "data": {
      "text/plain": "                Name                   Email  \\\n0            Tang Li       litang@gatech.edu   \n1    Trisha K. Lowe   trishak.lowe@gmail.com   \n2         Aaron Ray      aarondray@gmail.com   \n3     Kara M Calhoun           kmc4@rice.edu   \n4  Firas Said Midani       fmidani@umich.edu   \n\n                                         Affiliation        Country  \\\n0  Georgia Institute of Technology, Shanghai Univ...  United States   \n1                                    Duke University  United States   \n2                              Georgetown University  United States   \n3                                    Rice University  United States   \n4                   University of Michigan-Ann Arbor  United States   \n\n            Career Stage   Submisson Type Year - Volume - Issue  \\\n0       Graduate Student  Policy Analysis          2011 - Vol 1   \n1  Undergraduate Student  Policy Analysis          2011 - Vol 1   \n2       Graduate Student  Policy Analysis          2011 - Vol 1   \n3  Undergraduate Student            Op-Ed          2011 - Vol 1   \n4  Undergraduate Student  Policy Analysis          2011 - Vol 1   \n\n                                        Article name Race/Ethnicity Gender  \\\n0  Charting Nano Environmental, Health, and Safet...            NaN    NaN   \n1  South Forida Groundwater- Technological and Po...            NaN    NaN   \n2  Adaptive Policy Approaches to Ocean Acidificat...            NaN    NaN   \n3                      Diversity in Clinical Trials             NaN    NaN   \n4  Advancement of the Multidisciplinary Research ...            NaN    NaN   \n\n  Pronouns  \n0      NaN  \n1      NaN  \n2      NaN  \n3      NaN  \n4      NaN  ",
      "text/html": "<div>\n<style scoped>\n    .dataframe tbody tr th:only-of-type {\n        vertical-align: middle;\n    }\n\n    .dataframe tbody tr th {\n        vertical-align: top;\n    }\n\n    .dataframe thead th {\n        text-align: right;\n    }\n</style>\n<table border=\"1\" class=\"dataframe\">\n  <thead>\n    <tr style=\"text-align: right;\">\n      <th></th>\n      <th>Name</th>\n      <th>Email</th>\n      <th>Affiliation</th>\n      <th>Country</th>\n      <th>Career Stage</th>\n      <th>Submisson Type</th>\n      <th>Year - Volume - Issue</th>\n      <th>Article name</th>\n      <th>Race/Ethnicity</th>\n      <th>Gender</th>\n      <th>Pronouns</th>\n    </tr>\n  </thead>\n  <tbody>\n    <tr>\n      <th>0</th>\n      <td>Tang Li</td>\n      <td>litang@gatech.edu</td>\n      <td>Georgia Institute of Technology, Shanghai Univ...</td>\n      <td>United States</td>\n      <td>Graduate Student</td>\n      <td>Policy Analysis</td>\n      <td>2011 - Vol 1</td>\n      <td>Charting Nano Environmental, Health, and Safet...</td>\n      <td>NaN</td>\n      <td>NaN</td>\n      <td>NaN</td>\n    </tr>\n    <tr>\n      <th>1</th>\n      <td>Trisha K. Lowe</td>\n      <td>trishak.lowe@gmail.com</td>\n      <td>Duke University</td>\n      <td>United States</td>\n      <td>Undergraduate Student</td>\n      <td>Policy Analysis</td>\n      <td>2011 - Vol 1</td>\n      <td>South Forida Groundwater- Technological and Po...</td>\n      <td>NaN</td>\n      <td>NaN</td>\n      <td>NaN</td>\n    </tr>\n    <tr>\n      <th>2</th>\n      <td>Aaron Ray</td>\n      <td>aarondray@gmail.com</td>\n      <td>Georgetown University</td>\n      <td>United States</td>\n      <td>Graduate Student</td>\n      <td>Policy Analysis</td>\n      <td>2011 - Vol 1</td>\n      <td>Adaptive Policy Approaches to Ocean Acidificat...</td>\n      <td>NaN</td>\n      <td>NaN</td>\n      <td>NaN</td>\n    </tr>\n    <tr>\n      <th>3</th>\n      <td>Kara M Calhoun</td>\n      <td>kmc4@rice.edu</td>\n      <td>Rice University</td>\n      <td>United States</td>\n      <td>Undergraduate Student</td>\n      <td>Op-Ed</td>\n      <td>2011 - Vol 1</td>\n      <td>Diversity in Clinical Trials</td>\n      <td>NaN</td>\n      <td>NaN</td>\n      <td>NaN</td>\n    </tr>\n    <tr>\n      <th>4</th>\n      <td>Firas Said Midani</td>\n      <td>fmidani@umich.edu</td>\n      <td>University of Michigan-Ann Arbor</td>\n      <td>United States</td>\n      <td>Undergraduate Student</td>\n      <td>Policy Analysis</td>\n      <td>2011 - Vol 1</td>\n      <td>Advancement of the Multidisciplinary Research ...</td>\n      <td>NaN</td>\n      <td>NaN</td>\n      <td>NaN</td>\n    </tr>\n  </tbody>\n</table>\n</div>"
     },
     "execution_count": 8,
     "metadata": {},
     "output_type": "execute_result"
    }
   ],
   "source": [
    "new_df = pd.DataFrame(tuples, columns=['Name', 'Email', 'Affiliation','Country', 'Career Stage', 'Submisson Type', 'Year - Volume - Issue', 'Article name', 'Race/Ethnicity', 'Gender', 'Pronouns'])\n",
    "new_df.head()"
   ],
   "metadata": {
    "collapsed": false,
    "pycharm": {
     "name": "#%%\n"
    },
    "ExecuteTime": {
     "end_time": "2023-09-24T19:25:32.739197400Z",
     "start_time": "2023-09-24T19:25:32.377149700Z"
    }
   }
  },
  {
   "cell_type": "code",
   "execution_count": 9,
   "outputs": [],
   "source": [
    "# remove all rows where Name is empty\n",
    "new_df = new_df.dropna(subset=['Name'])"
   ],
   "metadata": {
    "collapsed": false,
    "pycharm": {
     "name": "#%%\n"
    },
    "ExecuteTime": {
     "end_time": "2023-09-24T19:25:32.759440100Z",
     "start_time": "2023-09-24T19:25:32.404657Z"
    }
   }
  },
  {
   "cell_type": "code",
   "execution_count": 10,
   "outputs": [],
   "source": [
    "new_df.to_csv('New_authour_db.csv')"
   ],
   "metadata": {
    "collapsed": false,
    "pycharm": {
     "name": "#%%\n"
    },
    "ExecuteTime": {
     "end_time": "2023-09-24T19:25:32.849498500Z",
     "start_time": "2023-09-24T19:25:32.428892600Z"
    }
   }
  }
 ],
 "metadata": {
  "kernelspec": {
   "display_name": "Python 3",
   "language": "python",
   "name": "python3"
  },
  "language_info": {
   "codemirror_mode": {
    "name": "ipython",
    "version": 2
   },
   "file_extension": ".py",
   "mimetype": "text/x-python",
   "name": "python",
   "nbconvert_exporter": "python",
   "pygments_lexer": "ipython2",
   "version": "2.7.6"
  }
 },
 "nbformat": 4,
 "nbformat_minor": 0
}
