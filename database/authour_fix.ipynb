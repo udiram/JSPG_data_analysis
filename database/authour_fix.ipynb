{
 "cells": [
  {
   "cell_type": "code",
   "execution_count": 1,
   "outputs": [],
   "source": [
    "import pandas as pd"
   ],
   "metadata": {
    "collapsed": false,
    "pycharm": {
     "name": "#%%\n"
    }
   }
  },
  {
   "cell_type": "code",
   "execution_count": 2,
   "outputs": [
    {
     "data": {
      "text/plain": "  Year - Vol - Issue  Year  Vol  Issue            Issue Topic  \\\n0       2011 - Vol 1  2011  1.0    NaN  Standard Winter Issue   \n1       2011 - Vol 1  2011  1.0    NaN  Standard Winter Issue   \n2       2011 - Vol 1  2011  1.0    NaN  Standard Winter Issue   \n3       2011 - Vol 1  2011  1.0    NaN  Standard Winter Issue   \n4       2011 - Vol 1  2011  1.0    NaN  Standard Winter Issue   \n\n  Standard or Special Issue Issue Sponsor Issue Outreach Partner  \\\n0            STANDARD ISSUE           NaN                    NaN   \n1            STANDARD ISSUE           NaN                    NaN   \n2            STANDARD ISSUE           NaN                    NaN   \n3            STANDARD ISSUE           NaN                    NaN   \n4            STANDARD ISSUE           NaN                    NaN   \n\n                                       Article Title Article Topic  ...  \\\n0  Charting Nano Environmental, Health, and Safet...           NaN  ...   \n1  South Forida Groundwater- Technological and Po...           NaN  ...   \n2  Adaptive Policy Approaches to Ocean Acidification           NaN  ...   \n3                       Diversity in Clinical Trials           NaN  ...   \n4  Advancement of the Multidisciplinary Research ...           NaN  ...   \n\n  Pronouns 3 Pronouns 4 Pronouns 5 Pronouns 6 Pronouns 7 Pronouns 8  \\\n0        NaN        NaN        NaN        NaN        NaN        NaN   \n1        NaN        NaN        NaN        NaN        NaN        NaN   \n2        NaN        NaN        NaN        NaN        NaN        NaN   \n3        NaN        NaN        NaN        NaN        NaN        NaN   \n4        NaN        NaN        NaN        NaN        NaN        NaN   \n\n  Pronouns 9 Pronouns 10 Pronouns 11 Pronouns 12  \n0        NaN         NaN         NaN         NaN  \n1        NaN         NaN         NaN         NaN  \n2        NaN         NaN         NaN         NaN  \n3        NaN         NaN         NaN         NaN  \n4        NaN         NaN         NaN         NaN  \n\n[5 rows x 137 columns]",
      "text/html": "<div>\n<style scoped>\n    .dataframe tbody tr th:only-of-type {\n        vertical-align: middle;\n    }\n\n    .dataframe tbody tr th {\n        vertical-align: top;\n    }\n\n    .dataframe thead th {\n        text-align: right;\n    }\n</style>\n<table border=\"1\" class=\"dataframe\">\n  <thead>\n    <tr style=\"text-align: right;\">\n      <th></th>\n      <th>Year - Vol - Issue</th>\n      <th>Year</th>\n      <th>Vol</th>\n      <th>Issue</th>\n      <th>Issue Topic</th>\n      <th>Standard or Special Issue</th>\n      <th>Issue Sponsor</th>\n      <th>Issue Outreach Partner</th>\n      <th>Article Title</th>\n      <th>Article Topic</th>\n      <th>...</th>\n      <th>Pronouns 3</th>\n      <th>Pronouns 4</th>\n      <th>Pronouns 5</th>\n      <th>Pronouns 6</th>\n      <th>Pronouns 7</th>\n      <th>Pronouns 8</th>\n      <th>Pronouns 9</th>\n      <th>Pronouns 10</th>\n      <th>Pronouns 11</th>\n      <th>Pronouns 12</th>\n    </tr>\n  </thead>\n  <tbody>\n    <tr>\n      <th>0</th>\n      <td>2011 - Vol 1</td>\n      <td>2011</td>\n      <td>1.0</td>\n      <td>NaN</td>\n      <td>Standard Winter Issue</td>\n      <td>STANDARD ISSUE</td>\n      <td>NaN</td>\n      <td>NaN</td>\n      <td>Charting Nano Environmental, Health, and Safet...</td>\n      <td>NaN</td>\n      <td>...</td>\n      <td>NaN</td>\n      <td>NaN</td>\n      <td>NaN</td>\n      <td>NaN</td>\n      <td>NaN</td>\n      <td>NaN</td>\n      <td>NaN</td>\n      <td>NaN</td>\n      <td>NaN</td>\n      <td>NaN</td>\n    </tr>\n    <tr>\n      <th>1</th>\n      <td>2011 - Vol 1</td>\n      <td>2011</td>\n      <td>1.0</td>\n      <td>NaN</td>\n      <td>Standard Winter Issue</td>\n      <td>STANDARD ISSUE</td>\n      <td>NaN</td>\n      <td>NaN</td>\n      <td>South Forida Groundwater- Technological and Po...</td>\n      <td>NaN</td>\n      <td>...</td>\n      <td>NaN</td>\n      <td>NaN</td>\n      <td>NaN</td>\n      <td>NaN</td>\n      <td>NaN</td>\n      <td>NaN</td>\n      <td>NaN</td>\n      <td>NaN</td>\n      <td>NaN</td>\n      <td>NaN</td>\n    </tr>\n    <tr>\n      <th>2</th>\n      <td>2011 - Vol 1</td>\n      <td>2011</td>\n      <td>1.0</td>\n      <td>NaN</td>\n      <td>Standard Winter Issue</td>\n      <td>STANDARD ISSUE</td>\n      <td>NaN</td>\n      <td>NaN</td>\n      <td>Adaptive Policy Approaches to Ocean Acidification</td>\n      <td>NaN</td>\n      <td>...</td>\n      <td>NaN</td>\n      <td>NaN</td>\n      <td>NaN</td>\n      <td>NaN</td>\n      <td>NaN</td>\n      <td>NaN</td>\n      <td>NaN</td>\n      <td>NaN</td>\n      <td>NaN</td>\n      <td>NaN</td>\n    </tr>\n    <tr>\n      <th>3</th>\n      <td>2011 - Vol 1</td>\n      <td>2011</td>\n      <td>1.0</td>\n      <td>NaN</td>\n      <td>Standard Winter Issue</td>\n      <td>STANDARD ISSUE</td>\n      <td>NaN</td>\n      <td>NaN</td>\n      <td>Diversity in Clinical Trials</td>\n      <td>NaN</td>\n      <td>...</td>\n      <td>NaN</td>\n      <td>NaN</td>\n      <td>NaN</td>\n      <td>NaN</td>\n      <td>NaN</td>\n      <td>NaN</td>\n      <td>NaN</td>\n      <td>NaN</td>\n      <td>NaN</td>\n      <td>NaN</td>\n    </tr>\n    <tr>\n      <th>4</th>\n      <td>2011 - Vol 1</td>\n      <td>2011</td>\n      <td>1.0</td>\n      <td>NaN</td>\n      <td>Standard Winter Issue</td>\n      <td>STANDARD ISSUE</td>\n      <td>NaN</td>\n      <td>NaN</td>\n      <td>Advancement of the Multidisciplinary Research ...</td>\n      <td>NaN</td>\n      <td>...</td>\n      <td>NaN</td>\n      <td>NaN</td>\n      <td>NaN</td>\n      <td>NaN</td>\n      <td>NaN</td>\n      <td>NaN</td>\n      <td>NaN</td>\n      <td>NaN</td>\n      <td>NaN</td>\n      <td>NaN</td>\n    </tr>\n  </tbody>\n</table>\n<p>5 rows × 137 columns</p>\n</div>"
     },
     "execution_count": 2,
     "metadata": {},
     "output_type": "execute_result"
    }
   ],
   "source": [
    "df = pd.read_csv('JSPG author database.xlsx - Journal Article Database.csv')\n",
    "df.head()"
   ],
   "metadata": {
    "collapsed": false,
    "pycharm": {
     "name": "#%%\n"
    }
   }
  },
  {
   "cell_type": "code",
   "execution_count": 3,
   "outputs": [
    {
     "data": {
      "text/plain": "Index(['Year - Vol - Issue', 'Year', 'Vol', 'Issue', 'Issue Topic',\n       'Standard or Special Issue', 'Issue Sponsor', 'Issue Outreach Partner',\n       'Article Title', 'Article Topic',\n       ...\n       'Pronouns 3', 'Pronouns 4', 'Pronouns 5', 'Pronouns 6', 'Pronouns 7',\n       'Pronouns 8', 'Pronouns 9', 'Pronouns 10', 'Pronouns 11',\n       'Pronouns 12'],\n      dtype='object', length=137)"
     },
     "execution_count": 3,
     "metadata": {},
     "output_type": "execute_result"
    }
   ],
   "source": [
    "headers_names = df.columns\n",
    "headers_names"
   ],
   "metadata": {
    "collapsed": false,
    "pycharm": {
     "name": "#%%\n"
    }
   }
  },
  {
   "cell_type": "code",
   "execution_count": 31,
   "outputs": [],
   "source": [
    "global_names = []\n",
    "global_pn = []\n",
    "global_email = []\n",
    "global_country = []\n",
    "for name in headers_names:\n",
    "    if 'Author Name' in name:\n",
    "        authours = df[name]\n",
    "        global_names.extend(authours)\n",
    "    if 'Pronouns' in name:\n",
    "        pn = df[name]\n",
    "        global_pn.extend(pn)\n",
    "    if 'Email' in name and not 'Author' in name:\n",
    "        email = df[name]\n",
    "        global_email.extend(email)\n",
    "    if 'Country' in name:\n",
    "        country = df[name]\n",
    "        global_country.extend(country)"
   ],
   "metadata": {
    "collapsed": false,
    "pycharm": {
     "name": "#%%\n"
    }
   }
  },
  {
   "cell_type": "code",
   "execution_count": 33,
   "outputs": [
    {
     "name": "stdout",
     "output_type": "stream",
     "text": [
      "3864\n",
      "3864\n",
      "3864\n",
      "litang@gatech.edu Tang Li nan United States\n"
     ]
    }
   ],
   "source": [
    "print(len(global_names))\n",
    "print(len(global_pn))\n",
    "print(len(global_email))\n",
    "print(global_email[0], global_names[0], global_pn[0], global_country[0])"
   ],
   "metadata": {
    "collapsed": false,
    "pycharm": {
     "name": "#%%\n"
    }
   }
  },
  {
   "cell_type": "code",
   "execution_count": null,
   "outputs": [],
   "source": [],
   "metadata": {
    "collapsed": false,
    "pycharm": {
     "name": "#%%\n"
    }
   }
  }
 ],
 "metadata": {
  "kernelspec": {
   "display_name": "Python 3",
   "language": "python",
   "name": "python3"
  },
  "language_info": {
   "codemirror_mode": {
    "name": "ipython",
    "version": 2
   },
   "file_extension": ".py",
   "mimetype": "text/x-python",
   "name": "python",
   "nbconvert_exporter": "python",
   "pygments_lexer": "ipython2",
   "version": "2.7.6"
  }
 },
 "nbformat": 4,
 "nbformat_minor": 0
}